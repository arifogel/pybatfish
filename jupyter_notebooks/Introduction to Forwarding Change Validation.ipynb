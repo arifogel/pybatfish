{
 "cells": [
  {
   "cell_type": "markdown",
   "metadata": {
    "colab_type": "text",
    "id": "_zOXbY_QD1_x",
    "slideshow": {
     "slide_type": "slide"
    }
   },
   "source": [
    "# Introduction to Forwarding Change Validation\n"
   ]
  },
  {
   "cell_type": "markdown",
   "metadata": {
    "slideshow": {
     "slide_type": "notes"
    }
   },
   "source": [
    "Hello and welcome to our Getting to know Batfish series where we showcase key capabilities of Batfish and how they can be used as part of your network automation workflow. \n",
    "\n",
    "My name is Matt. \n",
    "\n",
    "In this video, I will show you how to validate network forwarding changes using Batfish. "
   ]
  },
  {
   "cell_type": "markdown",
   "metadata": {
    "slideshow": {
     "slide_type": "slide"
    }
   },
   "source": [
    "Network forwarding changes are:\n",
    "- Common\n",
    "- Often hard to get right\n",
    "- Often hard to validate\n",
    "- Often high-risk"
   ]
  },
  {
   "cell_type": "markdown",
   "metadata": {
    "slideshow": {
     "slide_type": "notes"
    }
   },
   "source": [
    "Network engineers frequently make changes that impact forwarding behavior: adding new routes, opening or closing flows, routing traffic through different devices, etc. These changes are often hard to get right and hard to validate. The risks of deploying a bad change can be huge, potentially causing outages or security breaches. \n",
    "\n",
    "For these reasons, having a powerful change validation process is crucial for modern networks."
   ]
  },
  {
   "cell_type": "markdown",
   "metadata": {
    "slideshow": {
     "slide_type": "slide"
    }
   },
   "source": [
    "With Batfish, validating changes to your network can be:"
   ]
  },
  {
   "cell_type": "markdown",
   "metadata": {
    "slideshow": {
     "slide_type": "notes"
    }
   },
   "source": [
    "This video will show you how Batfish can help get your changes right.\n",
    "With Batfish, change validation can be:"
   ]
  },
  {
   "cell_type": "markdown",
   "metadata": {
    "slideshow": {
     "slide_type": "fragment"
    }
   },
   "source": [
    "- Proactive: catch bugs before they hit the network"
   ]
  },
  {
   "cell_type": "markdown",
   "metadata": {
    "slideshow": {
     "slide_type": "notes"
    }
   },
   "source": [
    "Proactive, meaning you can validate changes offline, before you deploy them to the network. \n",
    "- Any problems will be discovered before they can affect the network, and\n",
    "- you'll only deploy your changes after you have complete confidence that they will have the intended effects."
   ]
  },
  {
   "cell_type": "markdown",
   "metadata": {
    "slideshow": {
     "slide_type": "fragment"
    }
   },
   "source": [
    "- Network-scale: full network behavior of all devices"
   ]
  },
  {
   "cell_type": "markdown",
   "metadata": {
    "slideshow": {
     "slide_type": "notes"
    }
   },
   "source": [
    "Change validation with Batfish is also network-scale: Batfish analyzes full end-to-end network behavior, allowing it to find bugs caused by interactions between devices far away from each other."
   ]
  },
  {
   "cell_type": "markdown",
   "metadata": {
    "slideshow": {
     "slide_type": "fragment"
    }
   },
   "source": [
    "- Comprehensive: validate all possible traffic, not just a few probes"
   ]
  },
  {
   "cell_type": "markdown",
   "metadata": {
    "slideshow": {
     "slide_type": "notes"
    }
   },
   "source": [
    "It's also comprehensive: Batfish can validate the forwarding behavior for all possible flows. This allows it to find bugs you may never have thought to test. \n",
    "\n",
    "All of this makes batfish the ideal tool for your change validation workflow."
   ]
  },
  {
   "cell_type": "code",
   "execution_count": 2,
   "metadata": {
    "colab": {
     "base_uri": "https://localhost:8080/",
     "height": 34
    },
    "colab_type": "code",
    "id": "XFx4SzuUD1_6",
    "outputId": "d577c861-913c-4933-8b7e-c5b6e18a21a1",
    "slideshow": {
     "slide_type": "subslide"
    }
   },
   "outputs": [
    {
     "data": {
      "text/plain": [
       "'base'"
      ]
     },
     "execution_count": 2,
     "metadata": {},
     "output_type": "execute_result"
    }
   ],
   "source": [
    "# Import packages and load questions\n",
    "%run startup.py\n",
    "\n",
    "# Initialize base snapshot\n",
    "NETWORK_NAME = \"forwarding-change-validation\"\n",
    "BASE_NAME = \"base\"\n",
    "BASE_PATH = \"networks/forwarding-change-validation/base\"\n",
    "\n",
    "bf_set_network(NETWORK_NAME)\n",
    "bf_init_snapshot(BASE_PATH, name=BASE_NAME, overwrite=True)"
   ]
  },
  {
   "cell_type": "markdown",
   "metadata": {
    "colab_type": "text",
    "id": "tIQpmC2hUjwV",
    "slideshow": {
     "slide_type": "notes"
    }
   },
   "source": [
    "Let's get started.\n",
    "\n",
    "(RUN)\n",
    "\n",
    "As usual, we'll begin by initializing the current snapshot of our network in Batfish.\n",
    "\n",
    "Batfish will parse the configuration files, build a model of the network, and automatically computes the RIBs and FIBs."
   ]
  },
  {
   "cell_type": "markdown",
   "metadata": {
    "slideshow": {
     "slide_type": "slide"
    }
   },
   "source": [
    "# Change Scenario 1: Costing out `core1`\n",
    "![example-network](https://raw.githubusercontent.com/batfish/pybatfish/master/jupyter_notebooks/networks/forwarding-change-validation/differential%20forwarding%20network.png)"
   ]
  },
  {
   "cell_type": "markdown",
   "metadata": {
    "colab_type": "text",
    "id": "dMPK0fph1_y9",
    "slideshow": {
     "slide_type": "notes"
    }
   },
   "source": [
    "We're going to validate two different changes to our network.\n",
    "\n",
    "The network has two host devices connected to `leaf1` -- a webserver and a database server.\n",
    "\n",
    "On the other end, we have two border routers that connect to the external network.\n",
    "\n",
    "The network is provisioned with failover redundancy for the core routers. All traffic is normally routed through `core1` but will automatically switch to  `core2` in case of a failure or during maintenance.\n",
    "\n",
    "In this scenario, we want to service `core1` so we're going to shift traffic to `core2`. \n",
    "\n",
    "We'll implement a change to cost out `core1`, and verify that it does not affect reachability to the hosts from the external network."
   ]
  },
  {
   "cell_type": "code",
   "execution_count": null,
   "metadata": {
    "colab": {
     "base_uri": "https://localhost:8080/",
     "height": 728
    },
    "colab_type": "code",
    "id": "5EOejClhREbw",
    "outputId": "522f5363-c5ee-437f-85f7-f0af391b96f7",
    "scrolled": true,
    "slideshow": {
     "slide_type": "subslide"
    }
   },
   "outputs": [],
   "source": [
    "# Run traceroutes from border interfaces to hosts\n",
    "answer = bfq.traceroute(\n",
    "    startLocation=\"enter(border.*[GigabitEthernet0/0])\",\n",
    "    headers=HeaderConstraints(dstIps=\"ofLocation(host.*)\")\n",
    ").answer(snapshot=BASE_NAME)\n",
    "show(answer.frame())"
   ]
  },
  {
   "cell_type": "markdown",
   "metadata": {
    "slideshow": {
     "slide_type": "notes"
    }
   },
   "source": [
    "First, let's test the current forwarding behavior using the `traceroute` question.\n",
    "\n",
    "We want to see how external-to-host traffic is routed, so:\n",
    "- we'll use the dstIps parameter to specify traffic destined to the host devices, and\n",
    "- the startLocation parameter to specify traffic entering the network through the border routers' external interfaces\n",
    "\n",
    "(RUN)\n",
    "\n",
    "The results include a flow from each border router, and all possible paths of each flow. As we can see in the `Traces` column, both flows are routed through `core1`, which is all we're concerned with here.  For more information about the `traceroute` question, see our previous video in this series, `Introduction to Forwarding Analysis`.\n",
    "\n",
    "For now, having confirmed that traffic is being routed through `core1` as expected, let's go ahead with our change to cost it out so that traffic is routed through `core2` instead."
   ]
  },
  {
   "cell_type": "markdown",
   "metadata": {
    "slideshow": {
     "slide_type": "subslide"
    }
   },
   "source": [
    "### Initialize the change snapshot"
   ]
  },
  {
   "cell_type": "markdown",
   "metadata": {
    "slideshow": {
     "slide_type": "-"
    }
   },
   "source": [
    "\n",
    "```\n",
    "$ diff -r base/ change1/\n",
    "diff -r base/configs/core1.cfg change1/configs/core1.cfg\n",
    "68c68\n",
    "<  ip ospf cost 1\n",
    "---\n",
    ">  ip ospf cost 500\n",
    "73c73\n",
    "<  ip ospf cost 1\n",
    "---\n",
    ">  ip ospf cost 500\n",
    "78c78\n",
    "<  ip ospf cost 1\n",
    "---\n",
    ">  ip ospf cost 500\n",
    "83c83\n",
    "<  ip ospf cost 1\n",
    "---\n",
    ">  ip ospf cost 500\n",
    "```"
   ]
  },
  {
   "cell_type": "code",
   "execution_count": 11,
   "metadata": {
    "scrolled": true,
    "slideshow": {
     "slide_type": "fragment"
    }
   },
   "outputs": [
    {
     "data": {
      "text/plain": [
       "'change'"
      ]
     },
     "execution_count": 11,
     "metadata": {},
     "output_type": "execute_result"
    }
   ],
   "source": [
    "CHANGE1_NAME = \"change\"\n",
    "CHANGE1_PATH = \"networks/forwarding-change-validation/change1\"\n",
    "\n",
    "bf_init_snapshot(CHANGE1_PATH, name=CHANGE1_NAME, overwrite=True)"
   ]
  },
  {
   "cell_type": "markdown",
   "metadata": {
    "slideshow": {
     "slide_type": "notes"
    }
   },
   "source": [
    "To cost out core1, we'll raise the OSPF cost of each interface from 1 to 500.\n",
    "\n",
    "(FRAGMENT)\n",
    "\n",
    "Now we'll take the change and initialize a new candidate snapshot in Batfish. \n",
    "\n",
    "(RUN)\n",
    "\n",
    "We now have two shapshots in Batfish we can compare. Remember, this change exists only in Batfish -- we won't push anything until we have full confidence that it's correct."
   ]
  },
  {
   "cell_type": "markdown",
   "metadata": {
    "slideshow": {
     "slide_type": "subslide"
    }
   },
   "source": [
    "### Change validation process\n",
    "1. No traffic is routed through `core1`\n",
    "2. External-to-host traffic is unaffected"
   ]
  },
  {
   "cell_type": "markdown",
   "metadata": {
    "slideshow": {
     "slide_type": "notes"
    }
   },
   "source": [
    "Now we're ready to validate our change. \n",
    "\n",
    "We'll do this using a two-step process\n",
    "- Step 1 validates that the change has the intended effect.\n",
    "  - No outside-to-host traffic is routed through `core1`\n",
    "- Step 2 validates that it has no unintended effects. \n",
    "  - In this case, the change not affect reachability of external-to-host traffic.\n"
   ]
  },
  {
   "cell_type": "markdown",
   "metadata": {
    "slideshow": {
     "slide_type": "subslide"
    }
   },
   "source": [
    "### Step 1: No outside-to-host traffic is routed through core1"
   ]
  },
  {
   "cell_type": "code",
   "execution_count": null,
   "metadata": {
    "colab": {
     "base_uri": "https://localhost:8080/",
     "height": 49
    },
    "colab_type": "code",
    "id": "W93RTInYCf7f",
    "outputId": "9f3468cf-4c40-40e4-f7b7-3c5044a5dd09",
    "slideshow": {
     "slide_type": "-"
    }
   },
   "outputs": [],
   "source": [
    "answer = bfq.reachability(\n",
    "    pathConstraints=PathConstraints(\n",
    "        startLocation=\"enter(border.*[GigabitEthernet0/0])\",\n",
    "        transitLocations=\"core1\"),\n",
    "    headers=HeaderConstraints(dstIps=\"ofLocation(host.*)\", srcIps=\"0.0.0.0/0\"),\n",
    "    actions=\"SUCCESS,FAILURE\"\n",
    ").answer(snapshot=CHANGE1_NAME)\n",
    "show(answer.frame())"
   ]
  },
  {
   "cell_type": "markdown",
   "metadata": {
    "colab_type": "text",
    "id": "yrmyrVR-CqRI",
    "slideshow": {
     "slide_type": "notes"
    }
   },
   "source": [
    "To verify that **no** outside-to-host traffic is routed through `core1`, we search for counterexamples: outside-to-host traffic that *is* routed through `core1`. If no counterexamples are found, we are *guaranteed* that `core1` is never used. \n",
    "\n",
    "We see three new parameters here:\n",
    "- The `srcIps` parameter specifies to search all possible source IP addresses. By default, Batfish will search source IPs appropriate to each start location.\n",
    "- The `transitLocations` parameter specifies to search for flows that can transit `core1`. \n",
    "- The `actions` parameter specifies to include flows that are dropped as well as those that are successfully delivered (which is the default).\n",
    "\n",
    "Let's run this query.\n",
    "\n",
    "(RUN)\n",
    "\n",
    "Good!  Reachability was unable to find any edge-to-host flow that transited core1, showing that we have successfully costed it out.\n"
   ]
  },
  {
   "cell_type": "markdown",
   "metadata": {
    "slideshow": {
     "slide_type": "subslide"
    }
   },
   "source": [
    "### Step 2: Outside-to-host traffic is unaffected."
   ]
  },
  {
   "cell_type": "code",
   "execution_count": null,
   "metadata": {
    "colab": {
     "base_uri": "https://localhost:8080/",
     "height": 932
    },
    "colab_type": "code",
    "id": "1_OGA3Vr84u9",
    "outputId": "f955794b-4a72-4913-92cb-b46109da258f",
    "scrolled": true,
    "slideshow": {
     "slide_type": "-"
    }
   },
   "outputs": [],
   "source": [
    "answer = bfq.differentialReachability(\n",
    "    pathConstraints=PathConstraints(startLocation=\"enter(border.*[GigabitEthernet0/0])\"),\n",
    "    headers=HeaderConstraints(dstIps=\"ofLocation(host.*)\", srcIps=\"0.0.0.0/0\"),\n",
    "    actions=\"SUCCESS\"\n",
    ").answer(\n",
    "    snapshot=CHANGE1_NAME,\n",
    "    reference_snapshot=BASE_NAME)\n",
    "show(answer.frame())"
   ]
  },
  {
   "cell_type": "markdown",
   "metadata": {
    "colab_type": "text",
    "id": "Srh6MQdCD2AY",
    "slideshow": {
     "slide_type": "notes"
    }
   },
   "source": [
    "Now let's validate that costing out core1 has no unintended effects. \n",
    "\n",
    "To do that, we'll compare the forwarding behavior of the change snapshot against the original using the differentialReachability question.\n",
    "\n",
    "Batfish will search for flows that match the specified criteria in one of the snapshots but not the other. \n",
    "\n",
    "There should be no differences, since external-to-host reachability should be the same going through core2 as it is going through core1. \n",
    "\n",
    "(RUN)\n",
    "\n",
    "Unfortunately, these results show that there is a difference of reachability: some traffic that was being delivered in the reference snapshot (before the change) is being *null routed* in the change snapshot. \n",
    "\n",
    "If we had deployed this change, there would have been a loss of connectivity. Thankfully batfish was able to identify the bug *before* we deployed the change.\n",
    "\n",
    "The results include an example flow from each border router. Each flow comes with detailed traces of all the paths it can take through the network, in each snapshot. These traces help us to quickly diagnose the problem: `core2` has an old static route for `2.128.1.1/32` that should have been removed. A similar problem could occur with out-of-date ACLs along the path through `core2`. Batfish would find those problems as well.\n",
    "\n",
    "Having identified and diagnosed the problem, we can remove the bad static route in an updated change snapshot."
   ]
  },
  {
   "cell_type": "code",
   "execution_count": 3,
   "metadata": {
    "slideshow": {
     "slide_type": "subslide"
    }
   },
   "outputs": [
    {
     "data": {
      "text/plain": [
       "'change-fixed'"
      ]
     },
     "execution_count": 3,
     "metadata": {},
     "output_type": "execute_result"
    }
   ],
   "source": [
    "CHANGE1_FIXED_NAME = \"change-fixed\"\n",
    "CHANGE1_FIXED_PATH = \"networks/forwarding-change-validation/change1-fixed\"\n",
    "bf_init_snapshot(CHANGE1_FIXED_PATH, name=CHANGE1_FIXED_NAME, overwrite=True)"
   ]
  },
  {
   "cell_type": "code",
   "execution_count": 4,
   "metadata": {
    "slideshow": {
     "slide_type": "fragment"
    }
   },
   "outputs": [
    {
     "data": {
      "text/html": [
       "<div>\n",
       "<style scoped>\n",
       "    .dataframe tbody tr th:only-of-type {\n",
       "        vertical-align: middle;\n",
       "    }\n",
       "\n",
       "    .dataframe tbody tr th {\n",
       "        vertical-align: top;\n",
       "    }\n",
       "\n",
       "    .dataframe thead th {\n",
       "        text-align: right;\n",
       "    }\n",
       "</style>\n",
       "<table border=\"1\" class=\"dataframe\">\n",
       "  <thead>\n",
       "    <tr style=\"text-align: right;\">\n",
       "      <th></th>\n",
       "      <th>Flow</th>\n",
       "      <th>Traces</th>\n",
       "      <th>TraceCount</th>\n",
       "    </tr>\n",
       "  </thead>\n",
       "  <tbody>\n",
       "  </tbody>\n",
       "</table>\n",
       "</div>"
      ],
      "text/plain": [
       "Empty DataFrame\n",
       "Columns: [Flow, Traces, TraceCount]\n",
       "Index: []"
      ]
     },
     "metadata": {},
     "output_type": "display_data"
    }
   ],
   "source": [
    "answer = bfq.reachability(\n",
    "    pathConstraints=PathConstraints(\n",
    "        startLocation=\"enter(border.*[GigabitEthernet0/0])\",\n",
    "        transitLocations=\"core1\"),\n",
    "    headers=HeaderConstraints(dstIps=\"ofLocation(host.*)\", srcIps=\"0.0.0.0/0\"),\n",
    "    actions=\"SUCCESS,FAILURE\"\n",
    ").answer(snapshot=CHANGE1_FIXED_NAME)\n",
    "show(answer.frame())"
   ]
  },
  {
   "cell_type": "code",
   "execution_count": 5,
   "metadata": {
    "slideshow": {
     "slide_type": "fragment"
    }
   },
   "outputs": [
    {
     "data": {
      "text/html": [
       "<div>\n",
       "<style scoped>\n",
       "    .dataframe tbody tr th:only-of-type {\n",
       "        vertical-align: middle;\n",
       "    }\n",
       "\n",
       "    .dataframe tbody tr th {\n",
       "        vertical-align: top;\n",
       "    }\n",
       "\n",
       "    .dataframe thead th {\n",
       "        text-align: right;\n",
       "    }\n",
       "</style>\n",
       "<table border=\"1\" class=\"dataframe\">\n",
       "  <thead>\n",
       "    <tr style=\"text-align: right;\">\n",
       "      <th></th>\n",
       "      <th>Flow</th>\n",
       "      <th>Snapshot_Traces</th>\n",
       "      <th>Snapshot_TraceCount</th>\n",
       "      <th>Reference_Traces</th>\n",
       "      <th>Reference_TraceCount</th>\n",
       "    </tr>\n",
       "  </thead>\n",
       "  <tbody>\n",
       "  </tbody>\n",
       "</table>\n",
       "</div>"
      ],
      "text/plain": [
       "Empty DataFrame\n",
       "Columns: [Flow, Snapshot_Traces, Snapshot_TraceCount, Reference_Traces, Reference_TraceCount]\n",
       "Index: []"
      ]
     },
     "metadata": {},
     "output_type": "display_data"
    }
   ],
   "source": [
    "answer = bfq.differentialReachability(\n",
    "    pathConstraints=PathConstraints(startLocation=\"enter(border.*[GigabitEthernet0/0])\"),\n",
    "    headers=HeaderConstraints(dstIps=\"ofLocation(host.*)\", srcIps=\"0.0.0.0/0\")\n",
    ").answer(\n",
    "    snapshot=CHANGE1_FIXED_NAME,\n",
    "    reference_snapshot=BASE_NAME)\n",
    "show(answer.frame())"
   ]
  },
  {
   "cell_type": "markdown",
   "metadata": {
    "slideshow": {
     "slide_type": "notes"
    }
   },
   "source": [
    "(RUN)\n",
    "\n",
    "First, we'll initialize the fixed snapshot.\n",
    "\n",
    "(FRAGMENT)\n",
    "\n",
    "Then we'll repeat step 1 to confirm that core1 is still costed out \n",
    "\n",
    "(RUN)\n",
    "\n",
    "great! \n",
    "\n",
    "(FRAGMENT)\n",
    "\n",
    "Now let's repeat step 2 to make sure there are no other problems we need to fix.\n",
    "\n",
    "(RUN)\n",
    "\n",
    "Great! There are no other bugs, so this change can be safely pushed to the network."
   ]
  },
  {
   "cell_type": "markdown",
   "metadata": {
    "colab_type": "text",
    "id": "DT8YftmAg2N8",
    "slideshow": {
     "slide_type": "slide"
    }
   },
   "source": [
    "## Change 1 Summary\n"
   ]
  },
  {
   "cell_type": "markdown",
   "metadata": {
    "colab_type": "text",
    "id": "b5EhU8Swg3lH",
    "slideshow": {
     "slide_type": "notes"
    }
   },
   "source": [
    "Let's recap the steps we took to validate this change:"
   ]
  },
  {
   "cell_type": "markdown",
   "metadata": {
    "slideshow": {
     "slide_type": "fragment"
    }
   },
   "source": [
    "1. The change has the intended effect.\n",
    " - No traffic is routed through `core1`."
   ]
  },
  {
   "cell_type": "markdown",
   "metadata": {
    "slideshow": {
     "slide_type": "notes"
    }
   },
   "source": [
    "Step 1 validated that the change does what it's supposed to: move traffic from core1 to core2."
   ]
  },
  {
   "cell_type": "markdown",
   "metadata": {
    "slideshow": {
     "slide_type": "fragment"
    }
   },
   "source": [
    "2. The change has no unintended effects.\n",
    " - All outside-to-host traffic is unaffected."
   ]
  },
  {
   "cell_type": "markdown",
   "metadata": {
    "slideshow": {
     "slide_type": "notes"
    }
   },
   "source": [
    "Step2 validated that our change doesn't break anything: the end-to-end behavior of the network is unaffected.\n",
    "\n",
    "Together, these steps give us complete confidence that we can safely cost out and service core1."
   ]
  },
  {
   "cell_type": "markdown",
   "metadata": {
    "colab_type": "text",
    "id": "q5W6nBwpIURj",
    "slideshow": {
     "slide_type": "slide"
    }
   },
   "source": [
    "# Change Scenario 2: Validating the end-to-end impact of an ACL change\n",
    "![example-network](https://raw.githubusercontent.com/batfish/pybatfish/master/jupyter_notebooks/networks/forwarding-change-validation/differential%20forwarding%20network.png)"
   ]
  },
  {
   "cell_type": "markdown",
   "metadata": {
    "colab_type": "text",
    "id": "X5KzikNvIYfl",
    "slideshow": {
     "slide_type": "notes"
    }
   },
   "source": [
    "Now let's validate another change to the same network. Unlike the previous scenario, this time we **do** want to affect end-to-end reachability, and we will use the same validation process to ensure that our change has the intended effect, *and* that it has no *unintended* effects.\n",
    "\n",
    "For this scenario, imagine that we have developed and tested a new web service on the webserver, and are now ready to open it to the outside world. "
   ]
  },
  {
   "cell_type": "markdown",
   "metadata": {
    "slideshow": {
     "slide_type": "subslide"
    }
   },
   "source": [
    "### Trace HTTP traffic to host-www from outside the network. "
   ]
  },
  {
   "cell_type": "code",
   "execution_count": null,
   "metadata": {
    "colab": {
     "base_uri": "https://localhost:8080/",
     "height": 252
    },
    "colab_type": "code",
    "id": "Q4kFRpv8KGk0",
    "outputId": "ac774358-687c-48d6-81b4-7a2eec77d98c",
    "scrolled": true,
    "slideshow": {
     "slide_type": "-"
    }
   },
   "outputs": [],
   "source": [
    "answer = bfq.traceroute(\n",
    "    startLocation=\"enter(border.*[GigabitEthernet0/0])\",\n",
    "    headers=HeaderConstraints(dstIps=\"ofLocation(host-www)\", applications=\"HTTP\")\n",
    ").answer(snapshot=BASE_NAME)\n",
    "show(answer.frame())"
   ]
  },
  {
   "cell_type": "markdown",
   "metadata": {
    "colab_type": "text",
    "id": "_UZYpDSW4JpX",
    "slideshow": {
     "slide_type": "notes"
    }
   },
   "source": [
    "Let's start by using the `traceroute` question to confirm that the web service is not currenlty accessible from outside the network. \n",
    "\n",
    "Our parameters specify:\n",
    "- HTTP traffic\n",
    "- to the webserver\n",
    "- from the external network.\n",
    "\n",
    "(RUN)\n",
    "\n",
    "As you can see, the flow is dropped by the ingress ACL `OUTSIDE_TO_INSIDE` on each border router. This is where we'll make our change. \n"
   ]
  },
  {
   "cell_type": "markdown",
   "metadata": {
    "colab_type": "text",
    "id": "-WQtIfY7aACf",
    "slideshow": {
     "slide_type": "subslide"
    }
   },
   "source": [
    "```\n",
    "ip access-list extended OUTSIDE_TO_INSIDE\n",
    " permit tcp any 2.128.0.0 0.0.1.255 eq ssh\n",
    " permit udp any 2.0.0.0 0.255.255.255\n",
    " deny ip any any\n",
    "```"
   ]
  },
  {
   "cell_type": "markdown",
   "metadata": {
    "colab_type": "text",
    "id": "BTLwA9I0Z_Wu",
    "slideshow": {
     "slide_type": "notes"
    }
   },
   "source": [
    "This snippet shows the original ACL definition.\n",
    "\n",
    "The first line filters traffic to the host subnet.\n",
    "\n",
    "Currently, SSH is the only TCP traffic permitted."
   ]
  },
  {
   "cell_type": "markdown",
   "metadata": {
    "colab_type": "text",
    "id": "OhY3ipA2yFZM",
    "slideshow": {
     "slide_type": "fragment"
    }
   },
   "source": [
    "```\n",
    "ip access-list extended OUTSIDE_TO_INSIDE\n",
    " permit tcp any 2.128.0.0 0.0.1.255 eq ssh\n",
    " permit tcp any 2.128.0.0 0.0.1.255 eq www\n",
    " permit udp any 2.0.0.0 0.255.255.255\n",
    " deny ip any any\n",
    "```"
   ]
  },
  {
   "cell_type": "markdown",
   "metadata": {
    "slideshow": {
     "slide_type": "notes"
    }
   },
   "source": [
    "Here's the updated version of the ACL.\n",
    "\n",
    "We've added this second line to permit HTTP traffic,\n",
    "\n",
    "and we're opening it to the entire subnet, because we already filter per-host on the leaf router."
   ]
  },
  {
   "cell_type": "markdown",
   "metadata": {
    "slideshow": {
     "slide_type": "subslide"
    }
   },
   "source": [
    "### Trace HTTP traffic to host-www from outside the network."
   ]
  },
  {
   "cell_type": "code",
   "execution_count": null,
   "metadata": {
    "colab": {
     "base_uri": "https://localhost:8080/",
     "height": 34
    },
    "colab_type": "code",
    "id": "XtSBzA78RBLn",
    "outputId": "d6840dc6-0975-453c-bd4a-42119f14cdc1",
    "scrolled": true,
    "slideshow": {
     "slide_type": "-"
    }
   },
   "outputs": [],
   "source": [
    "# Initialize the change snapshot\n",
    "CHANGE2_NAME = \"change2\"\n",
    "CHANGE2_PATH = \"networks/forwarding-change-validation/change2\"\n",
    "bf_init_snapshot(CHANGE2_PATH, name=CHANGE2_NAME, overwrite=True)\n",
    "\n",
    "answer = bfq.traceroute(\n",
    "    startLocation=\"enter(border.*[GigabitEthernet0/0])\",\n",
    "    headers=HeaderConstraints(dstIps=\"ofLocation(host-www)\", applications=\"HTTP\")\n",
    ").answer(snapshot=CHANGE2_NAME)\n",
    "show(answer.frame())"
   ]
  },
  {
   "cell_type": "markdown",
   "metadata": {
    "colab_type": "text",
    "id": "eluzbIPOa1WV",
    "slideshow": {
     "slide_type": "notes"
    }
   },
   "source": [
    "Let's test this change with the same `traceroute` command we used before.\n",
    "\n",
    "(RUN)\n",
    "\n",
    "Good. We can see that HTTP traffic can now reach the webserver from the external network through either border router. \n",
    "\n",
    "This gives us some confidence that the change is correct, but we don't yet have complete confidence.\n",
    "\n",
    "Normally, we'd independently validate the change to each border router ACL following the steps outlined in the `Provably Safe ACL and Firewall Changes` video.\n",
    "\n",
    "However, in the interest of time, I'll skip those steps, and proceed to validating the end-to-end network behavior. "
   ]
  },
  {
   "cell_type": "markdown",
   "metadata": {
    "colab_type": "text",
    "id": "faOUCRKW5ulJ",
    "slideshow": {
     "slide_type": "subslide"
    }
   },
   "source": [
    "### Change validation process\n",
    "1. HTTP traffic from outside the network can reach `host-www`.\n",
    "2. No other traffic is affected."
   ]
  },
  {
   "cell_type": "markdown",
   "metadata": {
    "slideshow": {
     "slide_type": "notes"
    }
   },
   "source": [
    "As before, I'll validate our change in two steps:\n",
    "1. Step 1 validates that the change has the intended effect.\n",
    "  - Our web service is now available from the external network.\n",
    "1. Step 2 validates that the change has no unintended effects"
   ]
  },
  {
   "cell_type": "markdown",
   "metadata": {
    "slideshow": {
     "slide_type": "subslide"
    }
   },
   "source": [
    "### Step 1: HTTP traffic from outside the network can reach host-www"
   ]
  },
  {
   "cell_type": "code",
   "execution_count": null,
   "metadata": {
    "colab": {
     "base_uri": "https://localhost:8080/",
     "height": 49
    },
    "colab_type": "code",
    "id": "GnM2IPu7ShJl",
    "outputId": "2de5f6eb-135a-4b31-9fda-5e5ada97d98a",
    "slideshow": {
     "slide_type": "-"
    }
   },
   "outputs": [],
   "source": [
    "answer = bfq.reachability(\n",
    "    pathConstraints=PathConstraints(startLocation=\"enter(border.*[GigabitEthernet0/0])\"),\n",
    "    headers=HeaderConstraints(dstIps=\"ofLocation(host-www)\", srcIps=\"0.0.0.0/0\", applications=\"HTTP\"),\n",
    "    actions=\"FAILURE\"\n",
    ").answer(snapshot=CHANGE2_NAME)\n",
    "show(answer.frame())"
   ]
  },
  {
   "cell_type": "markdown",
   "metadata": {
    "colab_type": "text",
    "id": "bX88D15tfj4o",
    "slideshow": {
     "slide_type": "notes"
    }
   },
   "source": [
    "`traceroute` showed that after our change, *some* external traffic can reach the webservice.\n",
    "\n",
    "Step 1 will validate that *all* such traffic can reach it. \n",
    "\n",
    "We'll do that by searching for flows that *fail* to reach the webserver, by setting `actions` parameter to `FAILURE`.\n",
    "\n",
    "(RUN) \n",
    "\n",
    "Good! Batfish comprehensively searched all external flows destined to the webservice, and verified that all will be delivered successfully."
   ]
  },
  {
   "cell_type": "markdown",
   "metadata": {
    "slideshow": {
     "slide_type": "subslide"
    }
   },
   "source": [
    "### Step 2: No other traffic is affected"
   ]
  },
  {
   "cell_type": "code",
   "execution_count": null,
   "metadata": {
    "colab": {
     "base_uri": "https://localhost:8080/",
     "height": 864
    },
    "colab_type": "code",
    "id": "lzKhiKzsSbJP",
    "outputId": "9f892311-2031-446c-a98c-43ffcb08d590",
    "slideshow": {
     "slide_type": "-"
    }
   },
   "outputs": [],
   "source": [
    "answer = bfq.differentialReachability(\n",
    "    pathConstraints=PathConstraints(startLocation=\"enter(border.*[GigabitEthernet0/0])\"),\n",
    "    headers=HeaderConstraints(dstIps=\"ofLocation(host-www)\", srcIps=\"0.0.0.0/0\", applications=\"HTTP\"),\n",
    "    invertSearch=True\n",
    ").answer(snapshot=CHANGE2_NAME, reference_snapshot=BASE_NAME)\n",
    "show(answer.frame())"
   ]
  },
  {
   "cell_type": "markdown",
   "metadata": {
    "colab_type": "text",
    "id": "l9mYlYlyjU93",
    "slideshow": {
     "slide_type": "notes"
    }
   },
   "source": [
    "Step 2 validates that no other network behavior has changed.\n",
    "\n",
    "As before, we'll use the `differentialReachability` question to compare our change snapshot against the original. \n",
    "\n",
    "This time, we know *some* traffic has changed -- namely external traffic to the webservice.\n",
    "\n",
    "We'll ask Batfish to search for differences that affect *any other traffic*, using the `invertSearch` parameter.\n",
    "\n",
    "This directs batfish to search outside the specified header space instead of within it.\n",
    "\n",
    "(RUN)\n",
    "\n",
    "Unfortunately, our change had a broader impact than we intended, and batfish gives us some counterexample flows.\n",
    "\n",
    "In this case, we see a flow that was previously dropped by the border router ACLs, but is now being delivered to the database server.\n",
    "\n",
    "We can also see that this is HTTP traffic, which is supposed to be blocked at the leaf router. \n",
    "\n",
    "So we've quickly diagnosed the problem: The leaf router is not properly filtering traffic to the hosts: it permits HTTP to both hosts, rather than just the webserver."
   ]
  },
  {
   "cell_type": "markdown",
   "metadata": {
    "slideshow": {
     "slide_type": "subslide"
    }
   },
   "source": [
    "### Step 1 (again): HTTP traffic from outside the network can reach host-www"
   ]
  },
  {
   "cell_type": "code",
   "execution_count": 8,
   "metadata": {
    "slideshow": {
     "slide_type": "subslide"
    }
   },
   "outputs": [
    {
     "data": {
      "text/plain": [
       "'change2-fixed'"
      ]
     },
     "execution_count": 8,
     "metadata": {},
     "output_type": "execute_result"
    }
   ],
   "source": [
    "CHANGE2_FIXED_NAME = \"change2-fixed\"\n",
    "CHANGE2_FIXED_PATH = \"networks/forwarding-change-validation/change2-fixed\"\n",
    "bf_init_snapshot(CHANGE2_FIXED_PATH, name=CHANGE2_FIXED_NAME, overwrite=True)"
   ]
  },
  {
   "cell_type": "code",
   "execution_count": 9,
   "metadata": {
    "slideshow": {
     "slide_type": "fragment"
    }
   },
   "outputs": [
    {
     "data": {
      "text/html": [
       "<div>\n",
       "<style scoped>\n",
       "    .dataframe tbody tr th:only-of-type {\n",
       "        vertical-align: middle;\n",
       "    }\n",
       "\n",
       "    .dataframe tbody tr th {\n",
       "        vertical-align: top;\n",
       "    }\n",
       "\n",
       "    .dataframe thead th {\n",
       "        text-align: right;\n",
       "    }\n",
       "</style>\n",
       "<table border=\"1\" class=\"dataframe\">\n",
       "  <thead>\n",
       "    <tr style=\"text-align: right;\">\n",
       "      <th></th>\n",
       "      <th>Flow</th>\n",
       "      <th>Traces</th>\n",
       "      <th>TraceCount</th>\n",
       "    </tr>\n",
       "  </thead>\n",
       "  <tbody>\n",
       "  </tbody>\n",
       "</table>\n",
       "</div>"
      ],
      "text/plain": [
       "Empty DataFrame\n",
       "Columns: [Flow, Traces, TraceCount]\n",
       "Index: []"
      ]
     },
     "metadata": {},
     "output_type": "display_data"
    }
   ],
   "source": [
    "answer = bfq.reachability(\n",
    "    pathConstraints=PathConstraints(startLocation=\"enter(border.*[GigabitEthernet0/0])\"),\n",
    "    headers=HeaderConstraints(dstIps=\"ofLocation(host-www)\", srcIps=\"0.0.0.0/0\", applications=\"HTTP\"),\n",
    "    actions=\"FAILURE\"\n",
    ").answer(snapshot=CHANGE2_FIXED_NAME)\n",
    "show(answer.frame())"
   ]
  },
  {
   "cell_type": "code",
   "execution_count": 10,
   "metadata": {
    "slideshow": {
     "slide_type": "fragment"
    }
   },
   "outputs": [
    {
     "data": {
      "text/html": [
       "<div>\n",
       "<style scoped>\n",
       "    .dataframe tbody tr th:only-of-type {\n",
       "        vertical-align: middle;\n",
       "    }\n",
       "\n",
       "    .dataframe tbody tr th {\n",
       "        vertical-align: top;\n",
       "    }\n",
       "\n",
       "    .dataframe thead th {\n",
       "        text-align: right;\n",
       "    }\n",
       "</style>\n",
       "<table border=\"1\" class=\"dataframe\">\n",
       "  <thead>\n",
       "    <tr style=\"text-align: right;\">\n",
       "      <th></th>\n",
       "      <th>Flow</th>\n",
       "      <th>Snapshot_Traces</th>\n",
       "      <th>Snapshot_TraceCount</th>\n",
       "      <th>Reference_Traces</th>\n",
       "      <th>Reference_TraceCount</th>\n",
       "    </tr>\n",
       "  </thead>\n",
       "  <tbody>\n",
       "  </tbody>\n",
       "</table>\n",
       "</div>"
      ],
      "text/plain": [
       "Empty DataFrame\n",
       "Columns: [Flow, Snapshot_Traces, Snapshot_TraceCount, Reference_Traces, Reference_TraceCount]\n",
       "Index: []"
      ]
     },
     "metadata": {},
     "output_type": "display_data"
    }
   ],
   "source": [
    "answer = bfq.differentialReachability(\n",
    "    pathConstraints=PathConstraints(startLocation=\"enter(border.*[GigabitEthernet0/0])\"),\n",
    "    headers=HeaderConstraints(dstIps=\"ofLocation(host-www)\", srcIps=\"0.0.0.0/0\", applications=\"HTTP\"),\n",
    "    invertSearch=True\n",
    ").answer(snapshot=CHANGE2_FIXED_NAME, reference_snapshot=BASE_NAME)\n",
    "show(answer.frame())"
   ]
  },
  {
   "cell_type": "markdown",
   "metadata": {
    "slideshow": {
     "slide_type": "notes"
    }
   },
   "source": [
    "Having fixed the bad ACL on the leaf router, we'll initialize an updated change snapshot. \n",
    "\n",
    "(RUN)\n",
    "\n",
    "Let's validate *this* snapshot.\n",
    "\n",
    "(FRAGMENT)\n",
    "\n",
    "(RUN) \n",
    "\n",
    "As before, step 1 validates that all HTTP flows to the webserver will be delivered.\n",
    "\n",
    "(FRAGMENT)\n",
    "\n",
    "(RUN)\n",
    "\n",
    "Great! This time, step 2 validates that no other flows are affected by the change."
   ]
  },
  {
   "cell_type": "markdown",
   "metadata": {
    "colab_type": "text",
    "id": "AYPaUAgKpeep",
    "slideshow": {
     "slide_type": "subslide"
    }
   },
   "source": [
    "## Change 2 Summary"
   ]
  },
  {
   "cell_type": "markdown",
   "metadata": {
    "colab_type": "text",
    "id": "XWuBdBIYpgVQ",
    "slideshow": {
     "slide_type": "notes"
    }
   },
   "source": [
    "Let's recap the steps we took to verify the change in this scenario:"
   ]
  },
  {
   "cell_type": "markdown",
   "metadata": {
    "slideshow": {
     "slide_type": "fragment"
    }
   },
   "source": [
    "1. The change had the intended effect.\n",
    " - HTTP traffic from outside the network can reach host-www"
   ]
  },
  {
   "cell_type": "markdown",
   "metadata": {
    "slideshow": {
     "slide_type": "notes"
    }
   },
   "source": [
    "First, we verified that the intent of the change is achieved: our webservice is now reachable from the outside world."
   ]
  },
  {
   "cell_type": "markdown",
   "metadata": {
    "slideshow": {
     "slide_type": "fragment"
    }
   },
   "source": [
    "2. The change had no unintended effects.\n",
    " - No other external-to-host traffic is affected."
   ]
  },
  {
   "cell_type": "markdown",
   "metadata": {
    "slideshow": {
     "slide_type": "notes"
    }
   },
   "source": [
    "Second, we verified that there were no unintended effects to external-to-host traffic. As in the previous scenario, we used the `differentialReachability` question to compare the forwarding behavior of our change snapshot against the original."
   ]
  },
  {
   "cell_type": "markdown",
   "metadata": {
    "colab_type": "text",
    "id": "D9HYojho2g_K",
    "slideshow": {
     "slide_type": "slide"
    }
   },
   "source": [
    "# Thanks!\n",
    "\n",
    "Want to learn more? Come find us on Slack and Github!"
   ]
  },
  {
   "cell_type": "markdown",
   "metadata": {
    "slideshow": {
     "slide_type": "notes"
    }
   },
   "source": [
    "Thanks for watching this demo of network forwarding change validation using Batfish. You've seen how batfish can help provide full-scale, comprehensive change validation proactively, so you can deploy changes to your network with complete confidence.\n",
    "\n",
    "If you want to learn more about how to use batfish for validating changes to your network, or other ways batfish can help you build and maintain your network, please leave a comment, or come find us on slack or github. You'll find links in the description.\n",
    "\n",
    "And don't forget to check out the other videos in the getting to know batfish series.\n",
    "\n",
    "Thanks!"
   ]
  },
  {
   "cell_type": "code",
   "execution_count": null,
   "metadata": {},
   "outputs": [],
   "source": []
  }
 ],
 "metadata": {
  "celltoolbar": "Slideshow",
  "colab": {
   "collapsed_sections": [],
   "name": "Introduction to Forwarding Change Validation.ipynb",
   "provenance": [],
   "version": "0.3.2"
  },
  "kernelspec": {
   "display_name": "Python 3",
   "language": "python",
   "name": "python3"
  },
  "language_info": {
   "codemirror_mode": {
    "name": "ipython",
    "version": 3
   },
   "file_extension": ".py",
   "mimetype": "text/x-python",
   "name": "python",
   "nbconvert_exporter": "python",
   "pygments_lexer": "ipython3",
   "version": "3.6.4"
  }
 },
 "nbformat": 4,
 "nbformat_minor": 1
}
