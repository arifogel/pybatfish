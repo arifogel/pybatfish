{
 "cells": [
  {
   "cell_type": "markdown",
   "metadata": {
    "colab_type": "text",
    "id": "_zOXbY_QD1_x",
    "slideshow": {
     "slide_type": "slide"
    }
   },
   "source": [
    "# Introduction to Forwarding Change Validation\n"
   ]
  },
  {
   "cell_type": "markdown",
   "metadata": {
    "slideshow": {
     "slide_type": "notes"
    }
   },
   "source": [
    "Hello and welcome to our Getting to know Batfish series where we showcase key capabilities of Batfish and how they can be used as part of your network automation workflow. \n",
    "\n",
    "My name is Matt. \n",
    "\n",
    "In this video, I will show you how to validate network forwarding changes using Batfish. "
   ]
  },
  {
   "cell_type": "markdown",
   "metadata": {
    "slideshow": {
     "slide_type": "slide"
    }
   },
   "source": [
    "Network forwarding changes are:\n",
    "- Common\n",
    "- Often hard to get right\n",
    "- Often hard to validate\n",
    "- Often high-risk"
   ]
  },
  {
   "cell_type": "markdown",
   "metadata": {
    "slideshow": {
     "slide_type": "notes"
    }
   },
   "source": [
    "Network engineers frequently make changes that impact forwarding behavior: adding new routes, opening or closing flows, routing traffic through different devices, etc. These changes are often hard to get right and hard to validate. The risks of deploying a bad change can be huge, potentially causing outages or security breaches. \n",
    "\n",
    "For these reasons, having a powerful change validation process is crucial for modern networks."
   ]
  },
  {
   "cell_type": "markdown",
   "metadata": {
    "slideshow": {
     "slide_type": "slide"
    }
   },
   "source": [
    "With Batfish, validating changes to your network can be:"
   ]
  },
  {
   "cell_type": "markdown",
   "metadata": {
    "slideshow": {
     "slide_type": "notes"
    }
   },
   "source": [
    "This video will show you how Batfish can help get your changes right.\n",
    "With Batfish, change validation can be:"
   ]
  },
  {
   "cell_type": "markdown",
   "metadata": {
    "slideshow": {
     "slide_type": "fragment"
    }
   },
   "source": [
    "- Proactive: catch bugs before they hit the network"
   ]
  },
  {
   "cell_type": "markdown",
   "metadata": {
    "slideshow": {
     "slide_type": "notes"
    }
   },
   "source": [
    "Proactive, meaning you can validate changes offline, before you deploy them to the network. \n",
    "- Any problems will be discovered before they can affect the network, and\n",
    "- you'll only deploy your changes after you have complete confidence that they will have the intended effects."
   ]
  },
  {
   "cell_type": "markdown",
   "metadata": {
    "slideshow": {
     "slide_type": "fragment"
    }
   },
   "source": [
    "- Network-scale: full network behavior of all devices"
   ]
  },
  {
   "cell_type": "markdown",
   "metadata": {
    "slideshow": {
     "slide_type": "notes"
    }
   },
   "source": [
    "Change validation with Batfish is also network-scale: Batfish analyzes full end-to-end network behavior, and this allows it to find bugs caused by interactions between devices far away from each other."
   ]
  },
  {
   "cell_type": "markdown",
   "metadata": {
    "slideshow": {
     "slide_type": "fragment"
    }
   },
   "source": [
    "- Comprehensive: validate all possible traffic, not just a few probes"
   ]
  },
  {
   "cell_type": "markdown",
   "metadata": {
    "slideshow": {
     "slide_type": "notes"
    }
   },
   "source": [
    "It's also comprehensive: Batfish can validate the forwarding behavior for all possible flows. This allows it to find bugs you may never have thought to test. \n",
    "\n",
    "All of this makes batfish the ideal tool for your change validation workflow."
   ]
  },
  {
   "cell_type": "markdown",
   "metadata": {
    "slideshow": {
     "slide_type": "slide"
    }
   },
   "source": [
    "# Change Scenario 1: Costing out `core1`\n",
    "![example-network](https://raw.githubusercontent.com/batfish/pybatfish/master/jupyter_notebooks/networks/forwarding-change-validation/differential%20forwarding%20network.png)"
   ]
  },
  {
   "cell_type": "markdown",
   "metadata": {
    "colab_type": "text",
    "id": "dMPK0fph1_y9",
    "slideshow": {
     "slide_type": "notes"
    }
   },
   "source": [
    "Let's get started. \n",
    "\n",
    "We're going to validate two different changes to the network shown here. \n",
    "\n",
    "The network has two host devices connected to `leaf1` -- a webserver `host-www` and a database server `host-db`. \n",
    "\n",
    "On the other end, we have two border routers that connect to the external network.\n",
    "\n",
    "The network is provisioned with failover redundancy for the core routers. All traffic is normally routed through `core1` but will automatically switch to  `core2` in case of a failure or during maintenance.\n",
    "\n",
    "\n",
    "In this scenario, we want to service `core1` so we need to shift traffic to `core2`. \n",
    "\n",
    "We'll implement a change to cost out `core1`, and verify that it does not affect end-to-end reachability. \n",
    "\n",
    "In general, we care about three classes of end-to-end traffic: external-to-host, host-to-external, and host-to-host.\n",
    "\n",
    "For simplicity, I'm going to focus on the external-to-host traffic in this video but a similar process can cover the other classes as well."
   ]
  },
  {
   "cell_type": "code",
   "execution_count": null,
   "metadata": {
    "colab": {
     "base_uri": "https://localhost:8080/",
     "height": 34
    },
    "colab_type": "code",
    "id": "XFx4SzuUD1_6",
    "outputId": "d577c861-913c-4933-8b7e-c5b6e18a21a1",
    "slideshow": {
     "slide_type": "subslide"
    }
   },
   "outputs": [],
   "source": [
    "# Import packages and load questions\n",
    "%run startup.py\n",
    "\n",
    "# Initialize base snapshot\n",
    "NETWORK_NAME = \"forwarding-change-validation\"\n",
    "BASE_NAME = \"base\"\n",
    "BASE_PATH = \"networks/forwarding-change-validation/base\"\n",
    "\n",
    "bf_set_network(NETWORK_NAME)\n",
    "bf_init_snapshot(BASE_PATH, name=BASE_NAME, overwrite=True)"
   ]
  },
  {
   "cell_type": "markdown",
   "metadata": {
    "colab_type": "text",
    "id": "tIQpmC2hUjwV",
    "slideshow": {
     "slide_type": "notes"
    }
   },
   "source": [
    "(RUN)\n",
    "\n",
    "As usual, we'll begin by initializing the current snapshot of our network in Batfish.\n",
    "\n",
    "Batfish will parse the configuration files, build a model of the network, and automatically computes the RIBs and FIBs."
   ]
  },
  {
   "cell_type": "code",
   "execution_count": null,
   "metadata": {
    "colab": {
     "base_uri": "https://localhost:8080/",
     "height": 728
    },
    "colab_type": "code",
    "id": "5EOejClhREbw",
    "outputId": "522f5363-c5ee-437f-85f7-f0af391b96f7",
    "scrolled": true,
    "slideshow": {
     "slide_type": "subslide"
    }
   },
   "outputs": [],
   "source": [
    "# Run traceroutes from border interfaces to hosts\n",
    "answer = bfq.traceroute(\n",
    "    startLocation=\"enter(border.*[GigabitEthernet0/0])\",\n",
    "    headers=HeaderConstraints(dstIps=\"ofLocation(host.*)\")\n",
    ").answer(snapshot=BASE_NAME)\n",
    "show(answer.frame())"
   ]
  },
  {
   "cell_type": "markdown",
   "metadata": {
    "slideshow": {
     "slide_type": "notes"
    }
   },
   "source": [
    "Now let's simulate the current forwarding behavior using the `traceroute` question.\n",
    "\n",
    "We want to see how external-to-host traffic is routed, so:\n",
    "- to specify traffic destined to the hosts, I'll use this `dstIps` `HeaderConstraint` parameter.\n",
    "  - it specifies that the destination IP should belong to one of the hosts.\n",
    "- to specify traffic originating from outside the network, we use this `startLocation` parameter.\n",
    "  - It specifies a set of interfaces to start tracing from.\n",
    "  - \"enter()\" says to start tracing as the packets enter the interfaces\n",
    "  - Within `enter`, we specify the external interfaces of our border routers.\n",
    "\n",
    "Let's run the question\n",
    "\n",
    "(RUN)\n",
    "\n",
    "The results include a flow from each border router, and all possible paths of each flow. The `TraceCount` column indicates how many paths are possible for each flow. As we can see in the `Traces` column, both flows are routed through `core1`, which is all we're concerned with here.  For more information about the `traceroute` question, see our previous video in this series, `Introduction to Forwarding Analysis`.\n",
    "\n",
    "For now, having confirmed that traffic is being routed through `core1` as expected, let's go ahead with our change to cost it out so that traffic is routed through `core2` instead."
   ]
  },
  {
   "cell_type": "markdown",
   "metadata": {
    "slideshow": {
     "slide_type": "subslide"
    }
   },
   "source": [
    "### Initialize the change snapshot"
   ]
  },
  {
   "cell_type": "markdown",
   "metadata": {
    "slideshow": {
     "slide_type": "-"
    }
   },
   "source": [
    "\n",
    "```\n",
    "$ diff -r base/ change1/\n",
    "diff -r base/configs/core1.cfg change1/configs/core1.cfg\n",
    "68c68\n",
    "<  ip ospf cost 1\n",
    "---\n",
    ">  ip ospf cost 500\n",
    "73c73\n",
    "<  ip ospf cost 1\n",
    "---\n",
    ">  ip ospf cost 500\n",
    "78c78\n",
    "<  ip ospf cost 1\n",
    "---\n",
    ">  ip ospf cost 500\n",
    "83c83\n",
    "<  ip ospf cost 1\n",
    "---\n",
    ">  ip ospf cost 500\n",
    "```"
   ]
  },
  {
   "cell_type": "markdown",
   "metadata": {
    "slideshow": {
     "slide_type": "notes"
    }
   },
   "source": [
    "This diff summarizes our change. \n",
    "\n",
    "We'll increase the `ospf cost` of each interface on `core1` from `1` to `500`. This will cause the lower-cost routes through `core2` to be preferred."
   ]
  },
  {
   "cell_type": "markdown",
   "metadata": {
    "slideshow": {
     "slide_type": "subslide"
    }
   },
   "source": [
    "### Initialize the change snapshot"
   ]
  },
  {
   "cell_type": "code",
   "execution_count": null,
   "metadata": {
    "scrolled": true,
    "slideshow": {
     "slide_type": "-"
    }
   },
   "outputs": [],
   "source": [
    "CHANGE1_NAME = \"change\"\n",
    "CHANGE1_PATH = \"networks/forwarding-change-validation/change1\"\n",
    "\n",
    "bf_init_snapshot(CHANGE1_PATH, name=CHANGE1_NAME, overwrite=True)"
   ]
  },
  {
   "cell_type": "markdown",
   "metadata": {
    "slideshow": {
     "slide_type": "notes"
    }
   },
   "source": [
    "With these commands I'll initialize a new snapshot that includes this change.\n",
    "\n",
    "(RUN)\n",
    "\n",
    "We now have two snapshots of our network -- one before the change and one after the change. Batfish allows us to compare these two versions of the network, which as you'll see is very powerful for change validation.\n",
    "\n",
    "Note that the change has still not been pushed to the physical network. Remember, we won't push the change until we have full confidence that it's correct."
   ]
  },
  {
   "cell_type": "markdown",
   "metadata": {
    "slideshow": {
     "slide_type": "subslide"
    }
   },
   "source": [
    "### Change validation process\n",
    "1. No traffic is routed through `core1`\n",
    "2. Outside-to-host traffic is unaffected"
   ]
  },
  {
   "cell_type": "markdown",
   "metadata": {
    "slideshow": {
     "slide_type": "notes"
    }
   },
   "source": [
    "Now we're ready to validate our change. \n",
    "\n",
    "We'll do this using a two-step process\n",
    "- Step 1 validates that the change has the intended effect.\n",
    "  - No outside-to-host traffic is routed through `core1`\n",
    "- Step 2 validates that it has no unintended effects. \n",
    "  - In this case, the change should not affect what traffic can reach the hosts from outside the network.\n"
   ]
  },
  {
   "cell_type": "markdown",
   "metadata": {
    "slideshow": {
     "slide_type": "subslide"
    }
   },
   "source": [
    "### Step 1: No outside-to-host traffic is routed through core1"
   ]
  },
  {
   "cell_type": "code",
   "execution_count": null,
   "metadata": {
    "colab": {
     "base_uri": "https://localhost:8080/",
     "height": 49
    },
    "colab_type": "code",
    "id": "W93RTInYCf7f",
    "outputId": "9f3468cf-4c40-40e4-f7b7-3c5044a5dd09",
    "slideshow": {
     "slide_type": "-"
    }
   },
   "outputs": [],
   "source": [
    "answer = bfq.reachability(\n",
    "    pathConstraints=PathConstraints(\n",
    "        startLocation=\"enter(border.*[GigabitEthernet0/0])\",\n",
    "        transitLocations=\"core1\"),\n",
    "    headers=HeaderConstraints(dstIps=\"ofLocation(host.*)\"),\n",
    "    actions=\"SUCCESS,FAILURE\"\n",
    ").answer(snapshot=CHANGE1_NAME)\n",
    "show(answer.frame())"
   ]
  },
  {
   "cell_type": "markdown",
   "metadata": {
    "colab_type": "text",
    "id": "yrmyrVR-CqRI",
    "slideshow": {
     "slide_type": "notes"
    }
   },
   "source": [
    "This command performs step 1.\n",
    "\n",
    "To verify that **no** outside-to-host traffic is routed through `core1`, we search for counterexamples: outside-to-host traffic that *is* routed through `core1`. If no counterexamples are found, we are *guaranteed* that `core1` is never used. \n",
    "\n",
    "We use the `reachability` question, which searches for flows that match our search criteria.\n",
    "\n",
    "As before, we use the same `startLocation` and `dstIps` parameters to specify outside-to-host traffic.\n",
    "\n",
    "We see two new parameters here:\n",
    "- The `transitLocations` parameter specifies to search for flows that can transit `core1`. \n",
    "- The `actions` parameter specifies to include flows that are dropped as well as those that are successfully delivered (which is the default).\n",
    "\n",
    "Let's run this query.\n",
    "\n",
    "(RUN)\n",
    "\n",
    "Good! The search returned an empty table, which means no counter-examples were found. Since batfish exhaustively searched all outside-to-host flows, we are guaranteed that none can be routed through `core1`. \n",
    "\n",
    "This validates that our change has the intended effect.\n",
    "\n",
    "Next, let's validate that the change has no unintended effects."
   ]
  },
  {
   "cell_type": "markdown",
   "metadata": {
    "slideshow": {
     "slide_type": "subslide"
    }
   },
   "source": [
    "### Step 2: Outside-to-host traffic is unaffected."
   ]
  },
  {
   "cell_type": "code",
   "execution_count": null,
   "metadata": {
    "colab": {
     "base_uri": "https://localhost:8080/",
     "height": 932
    },
    "colab_type": "code",
    "id": "1_OGA3Vr84u9",
    "outputId": "f955794b-4a72-4913-92cb-b46109da258f",
    "scrolled": true,
    "slideshow": {
     "slide_type": "-"
    }
   },
   "outputs": [],
   "source": [
    "answer = bfq.differentialReachability(\n",
    "    pathConstraints=PathConstraints(startLocation=\"enter(border.*[GigabitEthernet0/0])\"),\n",
    "    headers=HeaderConstraints(dstIps=\"ofLocation(host.*)\"),\n",
    "    actions=\"SUCCESS\"\n",
    ").answer(\n",
    "    snapshot=CHANGE1_NAME,\n",
    "    reference_snapshot=BASE_NAME)\n",
    "show(answer.frame())"
   ]
  },
  {
   "cell_type": "markdown",
   "metadata": {
    "colab_type": "text",
    "id": "Srh6MQdCD2AY",
    "slideshow": {
     "slide_type": "notes"
    }
   },
   "source": [
    "To do that, we'll compare the forwarding behavior of the change snapshot against the original using the `differentialReachability` question. \n",
    "\n",
    "This question searches for flows that match the specified criteria in one of the snapshots but not the other.\n",
    "\n",
    "In this case we're searching for outside-to-host flows that are successfully delivered in one snapshot, and dropped in the other.\n",
    "\n",
    "If the change is correct, no such flows will be found, because costing out `core1` should have no effect on end-to-end reachability.\n",
    "\n",
    "(RUN)\n",
    "\n",
    "Unfortunately, these results show that there is an effect on reachability: some traffic that was being delivered in the reference snapshot (before the change) is being *null routed* in the change snapshot (after the change). This means if we deploy the change now, there will be a loss of connectivity. Thankfully batfish was able to identify that bug before we deployed the change. \n",
    "\n",
    "The results include an example flow from each border router. Each flow comes with detailed traces of all the paths it can take through the network, in each snapshot. These traces help us to quickly diagnose the problem: `core2` has an old static route for `2.128.1.1/32` that should have been removed. A similar problem could occur with out-of-date ACLs along the path through `core2`. Batfish would find those problems as well."
   ]
  },
  {
   "cell_type": "code",
   "execution_count": null,
   "metadata": {
    "colab": {
     "base_uri": "https://localhost:8080/",
     "height": 34
    },
    "colab_type": "code",
    "id": "VDUMSREzD2AY",
    "outputId": "ee726072-e372-45ef-9319-dc9cded10a47",
    "slideshow": {
     "slide_type": "subslide"
    }
   },
   "outputs": [],
   "source": [
    "CHANGE1_FIXED_NAME = \"change-fixed\"\n",
    "CHANGE1_FIXED_PATH = \"networks/forwarding-change-validation/change1-fixed\"\n",
    "bf_init_snapshot(CHANGE1_FIXED_PATH, name=CHANGE1_FIXED_NAME, overwrite=True)"
   ]
  },
  {
   "cell_type": "markdown",
   "metadata": {
    "slideshow": {
     "slide_type": "notes"
    }
   },
   "source": [
    "Having identified and diagnosed the problem, we remove the bad static route and load the updated change snapshot into batfish. \n",
    "\n",
    "(RUN)\n",
    "\n",
    "Now let's perform the same validation steps again."
   ]
  },
  {
   "cell_type": "markdown",
   "metadata": {
    "slideshow": {
     "slide_type": "subslide"
    }
   },
   "source": [
    "### Step 1 (again): No traffic is routed through core1"
   ]
  },
  {
   "cell_type": "code",
   "execution_count": null,
   "metadata": {
    "colab": {
     "base_uri": "https://localhost:8080/",
     "height": 49
    },
    "colab_type": "code",
    "id": "7PwwXc1rD2Ad",
    "outputId": "5ac678c5-89a2-488c-ef6b-8e7a66ef19aa",
    "slideshow": {
     "slide_type": "-"
    }
   },
   "outputs": [],
   "source": [
    "answer = bfq.reachability(\n",
    "    pathConstraints=PathConstraints(\n",
    "        startLocation=\"enter(border.*[GigabitEthernet0/0])\",\n",
    "        transitLocations=\"core1\"),\n",
    "    headers=HeaderConstraints(\n",
    "        dstIps=\"ofLocation(host.*)\",\n",
    "        srcIps=\"0.0.0.0/0\"),\n",
    "    actions=\"SUCCESS,FAILURE\"\n",
    ").answer(snapshot=CHANGE1_FIXED_NAME)\n",
    "show(answer.frame())"
   ]
  },
  {
   "cell_type": "markdown",
   "metadata": {
    "colab_type": "text",
    "id": "30mvGvW-H2Cx",
    "slideshow": {
     "slide_type": "notes"
    }
   },
   "source": [
    "Let's run step 1 again, searching for outside-to-host traffic that transits `core1`.\n",
    "\n",
    "(RUN)\n",
    "\n",
    "Again, we find no such traffic, so `core1` is still costed-out as intended. "
   ]
  },
  {
   "cell_type": "markdown",
   "metadata": {
    "slideshow": {
     "slide_type": "subslide"
    }
   },
   "source": [
    "### Step 2 (again): Outside-to-host traffic is unaffected."
   ]
  },
  {
   "cell_type": "code",
   "execution_count": 1,
   "metadata": {
    "colab": {
     "base_uri": "https://localhost:8080/",
     "height": 49
    },
    "colab_type": "code",
    "id": "IY1gbCULD2Aj",
    "outputId": "1d1faa4c-c61a-46f8-99df-4147c491e93a",
    "slideshow": {
     "slide_type": "-"
    }
   },
   "outputs": [
    {
     "ename": "NameError",
     "evalue": "name 'bfq' is not defined",
     "output_type": "error",
     "traceback": [
      "\u001b[0;31m---------------------------------------------------------------------------\u001b[0m",
      "\u001b[0;31mNameError\u001b[0m                                 Traceback (most recent call last)",
      "\u001b[0;32m<ipython-input-1-05b8180e9da2>\u001b[0m in \u001b[0;36m<module>\u001b[0;34m()\u001b[0m\n\u001b[0;32m----> 1\u001b[0;31m answer = bfq.differentialReachability(\n\u001b[0m\u001b[1;32m      2\u001b[0m     \u001b[0mpathConstraints\u001b[0m\u001b[0;34m=\u001b[0m\u001b[0mPathConstraints\u001b[0m\u001b[0;34m(\u001b[0m\u001b[0mstartLocation\u001b[0m\u001b[0;34m=\u001b[0m\u001b[0;34m\"enter(border.*[GigabitEthernet0/0])\"\u001b[0m\u001b[0;34m)\u001b[0m\u001b[0;34m,\u001b[0m\u001b[0;34m\u001b[0m\u001b[0m\n\u001b[1;32m      3\u001b[0m     \u001b[0mheaders\u001b[0m\u001b[0;34m=\u001b[0m\u001b[0mHeaderConstraints\u001b[0m\u001b[0;34m(\u001b[0m\u001b[0mdstIps\u001b[0m\u001b[0;34m=\u001b[0m\u001b[0;34m\"ofLocation(host.*)\"\u001b[0m\u001b[0;34m,\u001b[0m \u001b[0msrcIps\u001b[0m\u001b[0;34m=\u001b[0m\u001b[0;34m\"0.0.0.0/0\"\u001b[0m\u001b[0;34m)\u001b[0m\u001b[0;34m\u001b[0m\u001b[0m\n\u001b[1;32m      4\u001b[0m \u001b[0;34m)\u001b[0m\u001b[0;34m.\u001b[0m\u001b[0manswer\u001b[0m\u001b[0;34m(\u001b[0m\u001b[0;34m\u001b[0m\u001b[0m\n\u001b[1;32m      5\u001b[0m     \u001b[0msnapshot\u001b[0m\u001b[0;34m=\u001b[0m\u001b[0mCHANGE1_FIXED_NAME\u001b[0m\u001b[0;34m,\u001b[0m\u001b[0;34m\u001b[0m\u001b[0m\n",
      "\u001b[0;31mNameError\u001b[0m: name 'bfq' is not defined"
     ]
    }
   ],
   "source": [
    "answer = bfq.differentialReachability(\n",
    "    pathConstraints=PathConstraints(startLocation=\"enter(border.*[GigabitEthernet0/0])\"),\n",
    "    headers=HeaderConstraints(dstIps=\"ofLocation(host.*)\", srcIps=\"0.0.0.0/0\")\n",
    ").answer(\n",
    "    snapshot=CHANGE1_FIXED_NAME,\n",
    "    reference_snapshot=BASE_NAME)\n",
    "show(answer.frame())"
   ]
  },
  {
   "cell_type": "markdown",
   "metadata": {
    "colab_type": "text",
    "id": "DpIQk5JvD2Al",
    "slideshow": {
     "slide_type": "notes"
    }
   },
   "source": [
    "Next we re-run step 2 to check that costing out `core1` now has no impact on outside-to-host traffic.\n",
    "\n",
    "(RUN)\n",
    "\n",
    "Success! This time we get an empty table, which means batfish has verified that our change will not affect outside-to-host traffic. We can deploy the change with complete confidence. "
   ]
  },
  {
   "cell_type": "markdown",
   "metadata": {
    "colab_type": "text",
    "id": "DT8YftmAg2N8",
    "slideshow": {
     "slide_type": "slide"
    }
   },
   "source": [
    "## Recap\n"
   ]
  },
  {
   "cell_type": "markdown",
   "metadata": {
    "colab_type": "text",
    "id": "b5EhU8Swg3lH",
    "slideshow": {
     "slide_type": "notes"
    }
   },
   "source": [
    "Let's recap the steps we took to verify this change:"
   ]
  },
  {
   "cell_type": "markdown",
   "metadata": {
    "slideshow": {
     "slide_type": "fragment"
    }
   },
   "source": [
    "1. The change had the intended effect.\n",
    " - No traffic is routed through `core1`."
   ]
  },
  {
   "cell_type": "markdown",
   "metadata": {
    "slideshow": {
     "slide_type": "notes"
    }
   },
   "source": [
    "In step 1, we verified that the primary intent of the change is achieved: traffic is moved from `core1` to `core2`. We used the `reachability` query to search *all* outside-to-host flows in the network and verify that none will transit `core1` after the change."
   ]
  },
  {
   "cell_type": "markdown",
   "metadata": {
    "slideshow": {
     "slide_type": "fragment"
    }
   },
   "source": [
    "2. The change had no unintended effects.\n",
    " - All outside-to-host traffic was unaffected."
   ]
  },
  {
   "cell_type": "markdown",
   "metadata": {
    "slideshow": {
     "slide_type": "notes"
    }
   },
   "source": [
    "In step 2 we verified that moving the traffic did not affect outside-to-host traffic. For this, we used the `differentialReachability` question to compare the forwarding behavior of our change snapshot against the original."
   ]
  },
  {
   "cell_type": "markdown",
   "metadata": {
    "colab_type": "text",
    "id": "q5W6nBwpIURj",
    "slideshow": {
     "slide_type": "slide"
    }
   },
   "source": [
    "# Change Scenario 2: Validating the end-to-end impact of an ACL change\n",
    "![example-network](https://raw.githubusercontent.com/batfish/pybatfish/master/jupyter_notebooks/networks/forwarding-change-validation/differential%20forwarding%20network.png)"
   ]
  },
  {
   "cell_type": "markdown",
   "metadata": {
    "colab_type": "text",
    "id": "X5KzikNvIYfl",
    "slideshow": {
     "slide_type": "notes"
    }
   },
   "source": [
    "Now let's validate another change to the same network. Unlike the previous scenario, this time we **do** want to affect end-to-end reachability, and we will verify that our change has the intended effect. As before, we will also verify that it has no *unintended* effects.\n",
    "\n",
    "For this scenario, imagine that we have developed and tested a new web service on host `host-www`, and are now ready to open it to HTTP traffic from the outside world. "
   ]
  },
  {
   "cell_type": "code",
   "execution_count": null,
   "metadata": {
    "colab": {
     "base_uri": "https://localhost:8080/",
     "height": 252
    },
    "colab_type": "code",
    "id": "Q4kFRpv8KGk0",
    "outputId": "ac774358-687c-48d6-81b4-7a2eec77d98c",
    "scrolled": true,
    "slideshow": {
     "slide_type": "subslide"
    }
   },
   "outputs": [],
   "source": [
    "# Trace HTTP traffic to host-www from outside the network. \n",
    "answer = bfq.traceroute(\n",
    "    startLocation=\"enter(border.*[GigabitEthernet0/0])\",\n",
    "    headers=HeaderConstraints(dstIps=\"ofLocation(host-www)\", applications=\"HTTP\")\n",
    ").answer(snapshot=BASE_NAME)\n",
    "show(answer.frame())"
   ]
  },
  {
   "cell_type": "markdown",
   "metadata": {
    "colab_type": "text",
    "id": "_UZYpDSW4JpX",
    "slideshow": {
     "slide_type": "notes"
    }
   },
   "source": [
    "Let's start by using the `traceroute` question to confirm that the web service is not currenlty accessible from outside the network. The `dstIps` parameter tells traceroute to pick any IP belonging to the web server as the destination IP.\n",
    "\n",
    "(RUN)\n",
    "\n",
    "As you can see, the flow is dropped by the ingress ACL `OUTSIDE_TO_INSIDE` on each border router. This is where we'll make our change. \n"
   ]
  },
  {
   "cell_type": "markdown",
   "metadata": {
    "colab_type": "text",
    "id": "-WQtIfY7aACf",
    "slideshow": {
     "slide_type": "subslide"
    }
   },
   "source": [
    "```\n",
    "ip access-list extended OUTSIDE_TO_INSIDE\n",
    " permit tcp any 2.128.0.0 0.0.1.255 eq ssh\n",
    " permit udp any 2.0.0.0 0.255.255.255\n",
    " deny ip any any\n",
    "```"
   ]
  },
  {
   "cell_type": "markdown",
   "metadata": {
    "colab_type": "text",
    "id": "BTLwA9I0Z_Wu",
    "slideshow": {
     "slide_type": "notes"
    }
   },
   "source": [
    "This snippet shows the original ACL definition.\n",
    "\n",
    "The first line permits SSH traffic to the host subnet. "
   ]
  },
  {
   "cell_type": "markdown",
   "metadata": {
    "colab_type": "text",
    "id": "OhY3ipA2yFZM",
    "slideshow": {
     "slide_type": "fragment"
    }
   },
   "source": [
    "```\n",
    "ip access-list extended OUTSIDE_TO_INSIDE\n",
    " permit tcp any 2.128.0.0 0.0.1.255 eq ssh\n",
    " permit tcp any 2.128.0.0 0.0.1.255 eq www\n",
    " permit udp any 2.0.0.0 0.255.255.255\n",
    " deny ip any any\n",
    "```"
   ]
  },
  {
   "cell_type": "markdown",
   "metadata": {
    "slideshow": {
     "slide_type": "notes"
    }
   },
   "source": [
    "Here's the updated version of the ACL.\n",
    "\n",
    "We've created a similar rule for HTTP.\n",
    "\n",
    "We permit HTTP to the entire subnet, because there is an ACL on the leaf router that is responsible for the required per-host filtering. "
   ]
  },
  {
   "cell_type": "code",
   "execution_count": null,
   "metadata": {
    "colab": {
     "base_uri": "https://localhost:8080/",
     "height": 34
    },
    "colab_type": "code",
    "id": "XtSBzA78RBLn",
    "outputId": "d6840dc6-0975-453c-bd4a-42119f14cdc1",
    "scrolled": true,
    "slideshow": {
     "slide_type": "subslide"
    }
   },
   "outputs": [],
   "source": [
    "# Initialize the change snapshot\n",
    "CHANGE2_NAME = \"change2\"\n",
    "CHANGE2_PATH = \"networks/forwarding-change-validation/change2\"\n",
    "bf_init_snapshot(CHANGE2_PATH, name=CHANGE2_NAME, overwrite=True)\n",
    "\n",
    "# Trace HTTP traffic to host-www from outside the network. \n",
    "answer = bfq.traceroute(\n",
    "    startLocation=\"enter(border.*[GigabitEthernet0/0])\",\n",
    "    headers=HeaderConstraints(dstIps=\"ofLocation(host-www)\", applications=\"HTTP\")\n",
    ").answer(snapshot=CHANGE2_NAME)\n",
    "show(answer.frame())"
   ]
  },
  {
   "cell_type": "markdown",
   "metadata": {
    "colab_type": "text",
    "id": "eluzbIPOa1WV",
    "slideshow": {
     "slide_type": "notes"
    }
   },
   "source": [
    "Let's initialize a new change snapshot that updates both border router ACLs,\n",
    "\n",
    "and then test it with the same `traceroute` command we used before.\n",
    "\n",
    "(RUN)\n",
    "\n",
    "Good. We now see that HTTP traffic can reach `host-www` from outside the network. \n",
    "\n",
    "This test gives us some confidence that the change is correct, but we don't yet have complete confidence because we still haven't fully validated it.\n",
    "\n",
    "If this were a change to a real network, we'd follow the steps outlined in the `Provably Safe ACL and Firewall Changes` video to independently validate the change to each border router ACL. In the interest of time, I'll skip those steps, and proceed to validating the end-to-end network behavior. "
   ]
  },
  {
   "cell_type": "markdown",
   "metadata": {
    "colab_type": "text",
    "id": "faOUCRKW5ulJ",
    "slideshow": {
     "slide_type": "subslide"
    }
   },
   "source": [
    "### Change validation process\n",
    "1. HTTP traffic from outside the network can reach `host-www`.\n",
    "2. No other traffic is affected."
   ]
  },
  {
   "cell_type": "markdown",
   "metadata": {
    "slideshow": {
     "slide_type": "notes"
    }
   },
   "source": [
    "As before, I'll validate our change in two steps:\n",
    "1. Step 1 validates that the change has the intended effect.\n",
    "  - Our web service is now available from outside the network.\n",
    "1. Step 2 validates that the change has no unintended effects\n",
    "  - No other traffic is affected."
   ]
  },
  {
   "cell_type": "markdown",
   "metadata": {
    "slideshow": {
     "slide_type": "subslide"
    }
   },
   "source": [
    "### Step 1: HTTP traffic from outside the network can reach host-www"
   ]
  },
  {
   "cell_type": "code",
   "execution_count": null,
   "metadata": {
    "colab": {
     "base_uri": "https://localhost:8080/",
     "height": 49
    },
    "colab_type": "code",
    "id": "GnM2IPu7ShJl",
    "outputId": "2de5f6eb-135a-4b31-9fda-5e5ada97d98a",
    "slideshow": {
     "slide_type": "-"
    }
   },
   "outputs": [],
   "source": [
    "answer = bfq.reachability(\n",
    "    pathConstraints=PathConstraints(startLocation=\"enter(border.*[GigabitEthernet0/0])\"),\n",
    "    headers=HeaderConstraints(\n",
    "        dstIps=\"ofLocation(host-www)\",\n",
    "        srcIps=\"0.0.0.0/0\",\n",
    "        applications=\"HTTP\"),\n",
    "    actions=\"FAILURE\"\n",
    ").answer(snapshot=CHANGE2_NAME)\n",
    "show(answer.frame())"
   ]
  },
  {
   "cell_type": "markdown",
   "metadata": {
    "colab_type": "text",
    "id": "bX88D15tfj4o",
    "slideshow": {
     "slide_type": "notes"
    }
   },
   "source": [
    "The `traceroute` we did earlier demonstrated that after the change, *some* HTTP traffic can reach the webserver from outside the network. However, this doesn't ensure that *all* such traffic can reach it. For that, we use the `reachability` question to search for counterexamples of the requirement: HTTP flows from the outside that *cannot* reach the webserver. \n",
    "\n",
    "We set `actions` parameter to `FAILURE` because we're interested in flows that do not reach their destination.\n",
    "\n",
    "The `srcIps` parameter tells batfish to consider any source IP address in its search. By default, it will consider `srcIps` appropriate for each startLocation.\n",
    "\n",
    "(RUN) \n",
    "\n",
    "Good! Since batfish's comprehensive search found no counterexamples, we are guaranteed that none exist. In other words, the change had the intended effect."
   ]
  },
  {
   "cell_type": "markdown",
   "metadata": {
    "slideshow": {
     "slide_type": "subslide"
    }
   },
   "source": [
    "# Step 2: No other traffic is affected"
   ]
  },
  {
   "cell_type": "code",
   "execution_count": null,
   "metadata": {
    "colab": {
     "base_uri": "https://localhost:8080/",
     "height": 864
    },
    "colab_type": "code",
    "id": "lzKhiKzsSbJP",
    "outputId": "9f892311-2031-446c-a98c-43ffcb08d590",
    "slideshow": {
     "slide_type": "-"
    }
   },
   "outputs": [],
   "source": [
    "answer = bfq.differentialReachability(\n",
    "    pathConstraints=PathConstraints(startLocation=\"enter(border.*[GigabitEthernet0/0])\"),\n",
    "    headers=HeaderConstraints(\n",
    "        dstIps=\"ofLocation(host-www)\",\n",
    "        srcIps=\"0.0.0.0/0\",\n",
    "        applications=\"HTTP\"),\n",
    "    invertSearch=True\n",
    ").answer(snapshot=CHANGE2_NAME, reference_snapshot=BASE_NAME)\n",
    "show(answer.frame())"
   ]
  },
  {
   "cell_type": "markdown",
   "metadata": {
    "colab_type": "text",
    "id": "l9mYlYlyjU93",
    "slideshow": {
     "slide_type": "notes"
    }
   },
   "source": [
    "Step 2 is to check that the change has no unintended effects. As before, I'll use the `differentialReachability` question to compare our change snapshot against the original. We want to search for traffic treated differently by the two snapshots other than the traffic we meant to affect. To do this, we'll set the `invertSearch` parameter to `True`, which directs batfish to search outside the specified header space instead of within it.\n",
    "\n",
    "(RUN)\n",
    "\n",
    "Unfortunately, our change had a broader impact than we intended, and batfish gives us some counterexample flows.\n",
    "\n",
    "In this case, we see a flow than can reach the database server after the change, but was denied by the border router ACLs before.\n",
    "\n",
    "We can also see that this is an HTTP flow, which is supposed to be blocked at the leaf router. \n",
    "\n",
    "So we've quickly diagnosed the problem: The leaf router is not properly filtering traffic to the hosts: it permits HTTP to both hosts, rather than just the webserver."
   ]
  },
  {
   "cell_type": "markdown",
   "metadata": {
    "colab_type": "text",
    "id": "Nt19_so9xMOk",
    "slideshow": {
     "slide_type": "subslide"
    }
   },
   "source": [
    "```\n",
    "$ diff -r change2/ change2-fixed/\n",
    "diff -r change2/configs/leaf1.cfg change2-fixed/configs/leaf1.cfg\n",
    "119c119\n",
    "<  permit tcp any 2.128.0.0 0.0.255.255 eq www\n",
    "---\n",
    ">  permit tcp any 2.128.1.0 0.0.0.255 eq www\n",
    "```"
   ]
  },
  {
   "cell_type": "code",
   "execution_count": null,
   "metadata": {
    "colab": {
     "base_uri": "https://localhost:8080/",
     "height": 34
    },
    "colab_type": "code",
    "id": "Em-hD3Mrhbpw",
    "outputId": "6293710e-747d-46c8-eec4-13ea075396d7",
    "slideshow": {
     "slide_type": "-"
    }
   },
   "outputs": [],
   "source": [
    "CHANGE2_FIXED_NAME = \"change2-fixed\"\n",
    "CHANGE2_FIXED_PATH = \"networks/forwarding-change-validation/change2-fixed\"\n",
    "bf_init_snapshot(CHANGE2_FIXED_PATH, name=CHANGE2_FIXED_NAME, overwrite=True)"
   ]
  },
  {
   "cell_type": "markdown",
   "metadata": {
    "slideshow": {
     "slide_type": "notes"
    }
   },
   "source": [
    "This diff summarizes a fix for the buggy ACL on leaf1.\n",
    "\n",
    "I've already created an updated change snapshot that includes the fix, so let's load it into batfish and begin the validation process again.\n",
    "\n",
    "Let's load this fixed change snapshot into batfish and begin the validation process again.\n",
    "\n",
    "(RUN)"
   ]
  },
  {
   "cell_type": "markdown",
   "metadata": {
    "slideshow": {
     "slide_type": "subslide"
    }
   },
   "source": [
    "### Step 1 (again): HTTP traffic from outside the network can reach host-www"
   ]
  },
  {
   "cell_type": "code",
   "execution_count": null,
   "metadata": {
    "colab": {
     "base_uri": "https://localhost:8080/",
     "height": 49
    },
    "colab_type": "code",
    "id": "Awa91TqwsJkC",
    "outputId": "e4a280ce-2124-4d60-83b1-8f358fe37e4e",
    "slideshow": {
     "slide_type": "-"
    }
   },
   "outputs": [],
   "source": [
    "answer = bfq.reachability(\n",
    "    pathConstraints=PathConstraints(startLocation=\"enter(border.*[GigabitEthernet0/0])\"),\n",
    "    headers=HeaderConstraints(dstIps=\"ofLocation(host-www)\", applications=\"HTTP\"),\n",
    "    actions=\"FAILURE\"\n",
    ").answer(snapshot=CHANGE2_FIXED_NAME)\n",
    "show(answer.frame())"
   ]
  },
  {
   "cell_type": "markdown",
   "metadata": {
    "colab_type": "text",
    "id": "i8jVuVsQkkQY",
    "slideshow": {
     "slide_type": "notes"
    }
   },
   "source": [
    "First we re-run step 1.\n",
    "\n",
    "(RUN)\n",
    "\n",
    "As before, since we did not find any dropped HTTP flows to the webserver, we are guaranteed that all such flows will be delivered successfully. "
   ]
  },
  {
   "cell_type": "markdown",
   "metadata": {
    "slideshow": {
     "slide_type": "subslide"
    }
   },
   "source": [
    "### Step 2 (again): No other traffic is affected"
   ]
  },
  {
   "cell_type": "code",
   "execution_count": null,
   "metadata": {
    "colab": {
     "base_uri": "https://localhost:8080/",
     "height": 49
    },
    "colab_type": "code",
    "id": "zCsuHDrHlAqW",
    "outputId": "87507d10-f3c2-400e-8695-5854519488d2",
    "slideshow": {
     "slide_type": "-"
    }
   },
   "outputs": [],
   "source": [
    "answer = bfq.differentialReachability(\n",
    "    pathConstraints=PathConstraints(startLocation=\"enter(border.*[GigabitEthernet0/0])\"),\n",
    "    headers=HeaderConstraints(dstIps=\"ofLocation(host-www)\", applications=\"HTTP\"),\n",
    "    invertSearch=True\n",
    ").answer(snapshot=CHANGE2_FIXED_NAME, reference_snapshot=BASE_NAME)\n",
    "show(answer.frame())"
   ]
  },
  {
   "cell_type": "markdown",
   "metadata": {
    "colab_type": "text",
    "id": "BfEyRpf8k4vZ",
    "slideshow": {
     "slide_type": "notes"
    }
   },
   "source": [
    "Next, we re-run step 2.\n",
    "\n",
    "(RUN)\n",
    "\n",
    "Great! This time `differentialReachability` returns an empty table, which means no traffic was affected by the changes other than external traffic to our webservice, as intended."
   ]
  },
  {
   "cell_type": "markdown",
   "metadata": {
    "colab_type": "text",
    "id": "AYPaUAgKpeep",
    "slideshow": {
     "slide_type": "subslide"
    }
   },
   "source": [
    "## Recap"
   ]
  },
  {
   "cell_type": "markdown",
   "metadata": {
    "colab_type": "text",
    "id": "XWuBdBIYpgVQ",
    "slideshow": {
     "slide_type": "notes"
    }
   },
   "source": [
    "Let's recap the steps we took to verify the change in this scenario:"
   ]
  },
  {
   "cell_type": "markdown",
   "metadata": {
    "slideshow": {
     "slide_type": "fragment"
    }
   },
   "source": [
    "1. The change had the intended effect.\n",
    " - HTTP traffic from outside the network can reach host-www"
   ]
  },
  {
   "cell_type": "markdown",
   "metadata": {
    "slideshow": {
     "slide_type": "notes"
    }
   },
   "source": [
    "First, we verified that the intent of the change is achieved: our webservice is now reachable from the outside world."
   ]
  },
  {
   "cell_type": "markdown",
   "metadata": {
    "slideshow": {
     "slide_type": "fragment"
    }
   },
   "source": [
    "2. The change had no unintended effects.\n",
    " - No other external-to-host traffic is affected."
   ]
  },
  {
   "cell_type": "markdown",
   "metadata": {
    "slideshow": {
     "slide_type": "notes"
    }
   },
   "source": [
    "Second, we verified that there were no unintended effects to external-to-host traffic. As in the previous scenario, we used the `differentialReachability` question to compare the forwarding behavior of our change snapshot against the original."
   ]
  },
  {
   "cell_type": "markdown",
   "metadata": {
    "colab_type": "text",
    "id": "D9HYojho2g_K",
    "slideshow": {
     "slide_type": "slide"
    }
   },
   "source": [
    "# Thanks!\n",
    "\n",
    "Want to learn more? Come find us on Slack and Github!"
   ]
  },
  {
   "cell_type": "markdown",
   "metadata": {
    "slideshow": {
     "slide_type": "notes"
    }
   },
   "source": [
    "Thanks for watching this demo of network forwarding change validation using Batfish. You've seen how batfish can help provide full-scale, comprehensive change validation proactively, so you can deploy changes to your network with complete confidence.\n",
    "\n",
    "If you want to learn more about how to use batfish for validating changes to your network, please leave a comment below, or come find us on slack or github. You'll find links in the description.\n",
    "\n",
    "And don't forget to check out the other videos in the getting to know batfish series.\n",
    "\n",
    "Thanks!"
   ]
  },
  {
   "cell_type": "code",
   "execution_count": null,
   "metadata": {},
   "outputs": [],
   "source": []
  }
 ],
 "metadata": {
  "celltoolbar": "Slideshow",
  "colab": {
   "collapsed_sections": [],
   "name": "Introduction to Forwarding Change Validation.ipynb",
   "provenance": [],
   "version": "0.3.2"
  },
  "kernelspec": {
   "display_name": "Python 3",
   "language": "python",
   "name": "python3"
  },
  "language_info": {
   "codemirror_mode": {
    "name": "ipython",
    "version": 3
   },
   "file_extension": ".py",
   "mimetype": "text/x-python",
   "name": "python",
   "nbconvert_exporter": "python",
   "pygments_lexer": "ipython3",
   "version": "3.7.0"
  }
 },
 "nbformat": 4,
 "nbformat_minor": 1
}
